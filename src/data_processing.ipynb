{
 "cells": [
  {
   "cell_type": "code",
   "execution_count": 2,
   "id": "ebb6f550",
   "metadata": {},
   "outputs": [],
   "source": [
    "import pandas as pd\n",
    "import os"
   ]
  },
  {
   "cell_type": "code",
   "execution_count": 3,
   "id": "29f10ad9",
   "metadata": {},
   "outputs": [],
   "source": [
    "RAW_DIR = \"../data/raw\"\n",
    "PROCESSED_DIR = \"../data/processed\"\n",
    "os.makedirs(PROCESSED_DIR, exist_ok=True)"
   ]
  },
  {
   "cell_type": "code",
   "execution_count": 5,
   "id": "d2e878d9",
   "metadata": {},
   "outputs": [],
   "source": [
    "def load_ninja():\n",
    "    path = os.path.join(RAW_DIR, \"ninja_pv_13.0837_80.2702_uncorrected.csv\")\n",
    "    df = pd.read_csv(path, skiprows=3)  # skip metadata\n",
    "    df[\"time\"] = pd.to_datetime(df[\"time\"], utc=True)\n",
    "    df = df.set_index(\"time\").resample(\"1h\").mean(numeric_only=True)\n",
    "    df.rename(columns={\"electricity\": \"ninja_pv\"}, inplace=True)\n",
    "    return df"
   ]
  },
  {
   "cell_type": "code",
   "execution_count": 7,
   "id": "800c614f",
   "metadata": {},
   "outputs": [],
   "source": [
    "def load_nsrdb():\n",
    "    for fname in os.listdir(RAW_DIR):\n",
    "        if fname.lower().endswith(\".csv\") and \"nsrdb\" in fname.lower():\n",
    "            path = os.path.join(RAW_DIR, fname)\n",
    "            print(\"Loading NSRDB file:\", path)\n",
    "\n",
    "            # NSRDB files usually have 2 header rows\n",
    "            df = pd.read_csv(path, skiprows=2)\n",
    "\n",
    "            # Build datetime index\n",
    "            if \"Year\" in df.columns and \"Month\" in df.columns and \"Day\" in df.columns and \"Hour\" in df.columns:\n",
    "                df[\"time\"] = pd.to_datetime(\n",
    "                    df[\"Year\"].astype(str) + \"-\" +\n",
    "                    df[\"Month\"].astype(str) + \"-\" +\n",
    "                    # <- remove the dash before time\n",
    "                    df[\"Day\"].astype(str) + \" \" +\n",
    "                    df[\"Hour\"].astype(str) + \":\" +\n",
    "                    df[\"Minute\"].astype(str),\n",
    "                    format=\"%Y-%m-%d %H:%M\",\n",
    "                    utc=True\n",
    "                )\n",
    "            elif \"Date (MM/DD/YYYY)\" in df.columns and \"Time (HH:MM)\" in df.columns:\n",
    "                df[\"time\"] = pd.to_datetime(\n",
    "                    df[\"Date (MM/DD/YYYY)\"] + \" \" + df[\"Time (HH:MM)\"],\n",
    "                    utc=True\n",
    "                )\n",
    "\n",
    "            df = df.set_index(\"time\")\n",
    "\n",
    "            # Keep only useful columns (adjust as per your file)\n",
    "            cols = [c for c in df.columns if c in [\n",
    "                \"GHI\", \"DNI\", \"DHI\", \"Temperature\", \"Wind Speed\"]]\n",
    "            df = df[cols]\n",
    "\n",
    "            # Resample hourly if needed\n",
    "            df = df.resample(\"1h\").mean()\n",
    "            return df\n",
    "    print(\"⚠ No NSRDB CSV found in raw data folder\")\n",
    "    return None"
   ]
  },
  {
   "cell_type": "code",
   "execution_count": 9,
   "id": "dcaddffa",
   "metadata": {},
   "outputs": [],
   "source": [
    "def merge_all():\n",
    "    ninja = load_ninja()\n",
    "    nsrdb = load_nsrdb()\n",
    "    if nsrdb is not None:\n",
    "        df = pd.concat([ninja, nsrdb], axis=1)\n",
    "    else:\n",
    "        df = ninja\n",
    "    outpath = os.path.join(PROCESSED_DIR, \"solar_processed.csv\")\n",
    "    df.to_csv(outpath)\n",
    "    print(\"✅ Processed dataset saved to:\", outpath)"
   ]
  },
  {
   "cell_type": "code",
   "execution_count": 10,
   "id": "2b22f014",
   "metadata": {},
   "outputs": [
    {
     "name": "stdout",
     "output_type": "stream",
     "text": [
      "Loading NSRDB file: ../data/raw/nsrdb.csv\n",
      "✅ Processed dataset saved to: ../data/processed/solar_processed.csv\n"
     ]
    }
   ],
   "source": [
    "if __name__ == \"__main__\":\n",
    "    merge_all()"
   ]
  },
  {
   "cell_type": "code",
   "execution_count": null,
   "id": "9d64df41",
   "metadata": {},
   "outputs": [],
   "source": []
  }
 ],
 "metadata": {
  "kernelspec": {
   "display_name": ".venv",
   "language": "python",
   "name": "python3"
  },
  "language_info": {
   "codemirror_mode": {
    "name": "ipython",
    "version": 3
   },
   "file_extension": ".py",
   "mimetype": "text/x-python",
   "name": "python",
   "nbconvert_exporter": "python",
   "pygments_lexer": "ipython3",
   "version": "3.12.3"
  }
 },
 "nbformat": 4,
 "nbformat_minor": 5
}
