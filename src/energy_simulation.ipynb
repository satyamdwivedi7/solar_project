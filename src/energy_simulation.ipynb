{
 "cells": [
  {
   "cell_type": "code",
   "execution_count": 1,
   "id": "7ebf5446",
   "metadata": {},
   "outputs": [],
   "source": [
    "import pandas as pd\n",
    "import numpy as np\n",
    "import matplotlib.pyplot as plt"
   ]
  },
  {
   "cell_type": "code",
   "execution_count": 2,
   "id": "9d5f64e6",
   "metadata": {},
   "outputs": [],
   "source": [
    "DATA_PATH = \"../data/processed/solar_processed.csv\"\n",
    "OUTPUT_CSV = \"../reports/energy_estimation.csv\"\n",
    "OUTPUT_PLOT = \"../reports/energy_profile.png\""
   ]
  },
  {
   "cell_type": "code",
   "execution_count": 3,
   "id": "5e039db9",
   "metadata": {},
   "outputs": [],
   "source": [
    "def simulate_energy(panel_efficiency=0.18, panel_area=1.6, num_panels=10):\n",
    "    \"\"\"\n",
    "    Estimate annual energy generation for selected placements.\n",
    "    - panel_efficiency: PV efficiency (18% default).\n",
    "    - panel_area: Area per panel in m^2 (standard ~1.6 m^2).\n",
    "    - num_panels: Total number of panels to simulate.\n",
    "    \"\"\"\n",
    "\n",
    "    # Load solar data\n",
    "    df = pd.read_csv(DATA_PATH, parse_dates=[\"time\"])\n",
    "\n",
    "    # Use GHI (Global Horizontal Irradiance) if available, else ninja_pv as proxy\n",
    "    if \"GHI\" in df.columns and df[\"GHI\"].notna().any():\n",
    "        irradiance = df[\"GHI\"].fillna(0)\n",
    "    else:\n",
    "        irradiance = df[\"ninja_pv\"].fillna(0) * 1000  # scale proxy\n",
    "\n",
    "    # Power output (W) = Irradiance (W/m²) × Area × Efficiency × Num_panels\n",
    "    df[\"power_W\"] = irradiance * panel_area * panel_efficiency * num_panels\n",
    "\n",
    "    # Energy (kWh) = Power (W) × 1h / 1000\n",
    "    df[\"energy_kWh\"] = df[\"power_W\"] / 1000\n",
    "\n",
    "    # Summaries\n",
    "    total_energy = df[\"energy_kWh\"].sum()\n",
    "    avg_daily_energy = df.groupby(df[\"time\"].dt.date)[\"energy_kWh\"].sum().mean()\n",
    "\n",
    "    # Save results\n",
    "    results = pd.DataFrame({\n",
    "        \"Total Annual Energy (kWh)\": [total_energy],\n",
    "        \"Average Daily Energy (kWh)\": [avg_daily_energy],\n",
    "        \"Number of Panels\": [num_panels],\n",
    "        \"Panel Efficiency\": [panel_efficiency],\n",
    "        \"Panel Area (m2)\": [panel_area]\n",
    "    })\n",
    "    results.to_csv(OUTPUT_CSV, index=False)\n",
    "\n",
    "    # Plot energy profile\n",
    "    plt.figure(figsize=(10,5))\n",
    "    df.set_index(\"time\")[\"energy_kWh\"].resample(\"D\").sum().plot()\n",
    "    plt.title(\"Daily Energy Generation Profile\")\n",
    "    plt.ylabel(\"Energy (kWh)\")\n",
    "    plt.xlabel(\"Date\")\n",
    "    plt.grid(True)\n",
    "    plt.savefig(OUTPUT_PLOT, dpi=300)\n",
    "    plt.close()\n",
    "\n",
    "    print(f\"✅ Energy simulation complete!\")\n",
    "    print(f\"   Total Energy: {total_energy:.2f} kWh/year\")\n",
    "    print(f\"   Average Daily: {avg_daily_energy:.2f} kWh/day\")\n",
    "    print(f\"   Results saved to {OUTPUT_CSV}\")\n",
    "    print(f\"   Plot saved to {OUTPUT_PLOT}\")"
   ]
  },
  {
   "cell_type": "code",
   "execution_count": 4,
   "id": "a039d6fb",
   "metadata": {},
   "outputs": [
    {
     "name": "stdout",
     "output_type": "stream",
     "text": [
      "✅ Energy simulation complete!\n",
      "   Total Energy: 11519.69 kWh/year\n",
      "   Average Daily: 15.76 kWh/day\n",
      "   Results saved to ../reports/energy_estimation.csv\n",
      "   Plot saved to ../reports/energy_profile.png\n"
     ]
    }
   ],
   "source": [
    "if __name__ == \"__main__\":\n",
    "    simulate_energy(panel_efficiency=0.18, panel_area=1.6, num_panels=20)"
   ]
  },
  {
   "cell_type": "code",
   "execution_count": null,
   "id": "458e2558",
   "metadata": {},
   "outputs": [],
   "source": []
  }
 ],
 "metadata": {
  "kernelspec": {
   "display_name": ".venv",
   "language": "python",
   "name": "python3"
  },
  "language_info": {
   "codemirror_mode": {
    "name": "ipython",
    "version": 3
   },
   "file_extension": ".py",
   "mimetype": "text/x-python",
   "name": "python",
   "nbconvert_exporter": "python",
   "pygments_lexer": "ipython3",
   "version": "3.12.3"
  }
 },
 "nbformat": 4,
 "nbformat_minor": 5
}
